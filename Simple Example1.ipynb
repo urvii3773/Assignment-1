{
 "cells": [
  {
   "cell_type": "markdown",
   "metadata": {},
   "source": [
    "The most basic data structure in Python is the sequence. Each element of a sequence is assigned a number - its position or index. ... In addition, Python has built-in functions for finding the length of a sequence and for finding its largest and smallest elements.\n",
    "\n",
    "Here,Input have List 1,List 2 and List 3 having different values.In Output we get the second value from the List 1,values 1 to 5 from the List 2,Third and Fourth value from the List 3.\n",
    "\n"
   ]
  },
  {
   "cell_type": "code",
   "execution_count": 14,
   "metadata": {},
   "outputs": [
    {
     "name": "stdout",
     "output_type": "stream",
     "text": [
      "list1[2]:  Biomedical\n",
      "list2[1:5]:  [9, 8, 2, 5]\n",
      "list3[2:4]:  ['e', 'r']\n"
     ]
    }
   ],
   "source": [
    "#This is the simple Example of list function\n",
    "\n",
    "#we use a list function to  access values in lists\n",
    "list1 = ['Biomedical', 'Analytics', 2017, 2018];\n",
    "list2 = [7, 9, 8, 2, 5 ];\n",
    "list3 = [\"p\", \"r\", \"e\", \"r\"]\n",
    " \n",
    "#use a pr\n",
    "print \"list1[2]: \", list1[0]\n",
    "print \"list2[1:5]: \", list2[1:5]\n",
    "print \"list3[2:4]: \", list3[2:4]"
   ]
  },
  {
   "cell_type": "code",
   "execution_count": null,
   "metadata": {
    "collapsed": true
   },
   "outputs": [],
   "source": []
  },
  {
   "cell_type": "code",
   "execution_count": null,
   "metadata": {
    "collapsed": true
   },
   "outputs": [],
   "source": []
  }
 ],
 "metadata": {
  "kernelspec": {
   "display_name": "Python 2",
   "language": "python",
   "name": "python2"
  },
  "language_info": {
   "codemirror_mode": {
    "name": "ipython",
    "version": 2
   },
   "file_extension": ".py",
   "mimetype": "text/x-python",
   "name": "python",
   "nbconvert_exporter": "python",
   "pygments_lexer": "ipython2",
   "version": "2.7.13"
  }
 },
 "nbformat": 4,
 "nbformat_minor": 2
}
