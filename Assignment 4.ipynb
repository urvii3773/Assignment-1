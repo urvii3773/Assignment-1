{
 "cells": [
  {
   "cell_type": "code",
   "execution_count": 2,
   "metadata": {},
   "outputs": [
    {
     "name": "stdout",
     "output_type": "stream",
     "text": [
      "The image is 512x512 pixels\n",
      "The image was encoded with 12 bits \n",
      "The manufacturer is Philips Medical Systems and the model is Achieva\n",
      "The image was made on 2011-01-01\n",
      "The anatomy imaged is LIVER\n",
      "The patient imaged is Female\n",
      "The patient's name is unkown\n"
     ]
    }
   ],
   "source": [
    "%matplotlib inline\n",
    "from skimage import novice, data, io, exposure\n",
    "import numpy as np\n",
    "import matplotlib.pyplot as plt\n",
    "import matplotlib.image as mpimg\n",
    "import dicom\n",
    "from datetime import datetime\n",
    "\n",
    "# Get file\n",
    "RefDs = dicom.read_file('./IM_0028.dcm')\n",
    "print('The image is '+str(RefDs.Rows)+'x'+str(RefDs.Columns)+' pixels')\n",
    "print('The image was encoded with '+str(RefDs.BitsStored)+' bits ')\n",
    "print('The manufacturer is '+str(RefDs.Manufacturer)+' and the model is '+str(RefDs.ManufacturersModelName))\n",
    "d=datetime.strptime(RefDs.AcquisitionDate,'%Y%m%d')\n",
    "print('The image was made on '+str(d.date()))\n",
    "print('The anatomy imaged is '+str(RefDs.BodyPartExamined))\n",
    "if RefDs.PatientsSex=='F':\n",
    "    print('The patient imaged is Female')\n",
    "else:\n",
    "    print('The patient imaged is Male')\n",
    "if RefDs.PatientsName=='':\n",
    "    print('The patient\\'s name is unkown')\n",
    "else:\n",
    "    print('The patient\\'s name is '+str(RefDs.PatientsName))"
   ]
  },
  {
   "cell_type": "code",
   "execution_count": 5,
   "metadata": {},
   "outputs": [
    {
     "name": "stdout",
     "output_type": "stream",
     "text": [
      "The image is 512x512 pixels\n",
      "The image was encoded with 16 bits \n",
      "The manufacturer is GE MEDICAL SYSTEMS and the model is LightSpeed VCT\n",
      "The image was made on 2008-06-03\n",
      "The patient imaged is Male\n",
      "The patient's name is unkown\n"
     ]
    }
   ],
   "source": [
    "RefDs = dicom.read_file('./im140.dcm')\n",
    "print('The image is '+str(RefDs.Rows)+'x'+str(RefDs.Columns)+' pixels')\n",
    "print('The image was encoded with '+str(RefDs.BitsStored)+' bits ')\n",
    "print('The manufacturer is '+str(RefDs.Manufacturer)+' and the model is '+str(RefDs.ManufacturersModelName))\n",
    "d=datetime.strptime(RefDs.AcquisitionDate,'%Y%m%d')\n",
    "print('The image was made on '+str(d.date()))\n",
    "\n",
    "if RefDs.PatientsSex=='F':\n",
    "    print('The patient imaged is Female')\n",
    "else:\n",
    "    print('The patient imaged is Male')\n",
    "if RefDs.PatientsName=='':\n",
    "    print('The patient\\'s name is unkown')\n",
    "else:\n",
    "    print('The patient\\'s name is '+str(RefDs.PatientsName))"
   ]
  },
  {
   "cell_type": "code",
   "execution_count": null,
   "metadata": {
    "collapsed": true
   },
   "outputs": [],
   "source": []
  }
 ],
 "metadata": {
  "kernelspec": {
   "display_name": "Python 2",
   "language": "python",
   "name": "python2"
  },
  "language_info": {
   "codemirror_mode": {
    "name": "ipython",
    "version": 2
   },
   "file_extension": ".py",
   "mimetype": "text/x-python",
   "name": "python",
   "nbconvert_exporter": "python",
   "pygments_lexer": "ipython2",
   "version": "2.7.13"
  }
 },
 "nbformat": 4,
 "nbformat_minor": 2
}
